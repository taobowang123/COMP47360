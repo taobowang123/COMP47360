{
 "cells": [
  {
   "cell_type": "markdown",
   "metadata": {},
   "source": [
    "# 1. Introduction"
   ]
  },
  {
   "cell_type": "markdown",
   "metadata": {},
   "source": [
    "The purpose of this notebook is to perform initial cleaning of the Met Eireann weather data, and to export the cleaned data to a csv file."
   ]
  },
  {
   "cell_type": "markdown",
   "metadata": {},
   "source": [
    "# 2. Setup & Data Load"
   ]
  },
  {
   "cell_type": "markdown",
   "metadata": {},
   "source": [
    "Import required modules and packages:"
   ]
  },
  {
   "cell_type": "code",
   "execution_count": 1,
   "metadata": {},
   "outputs": [],
   "source": [
    "# import pandas for data analysis\n",
    "import pandas as pd"
   ]
  },
  {
   "cell_type": "markdown",
   "metadata": {},
   "source": [
    "Set the max number of columns & rows to display:"
   ]
  },
  {
   "cell_type": "code",
   "execution_count": 2,
   "metadata": {},
   "outputs": [],
   "source": [
    "pd.set_option('display.max_columns', 30)\n",
    "pd.set_option('display.max_rows', 500)"
   ]
  },
  {
   "cell_type": "markdown",
   "metadata": {},
   "source": [
    "Weather data is loaded from a csv:"
   ]
  },
  {
   "cell_type": "code",
   "execution_count": 3,
   "metadata": {},
   "outputs": [],
   "source": [
    "df_weather = pd.read_csv('/data_analytics/data/weather.csv', sep=\",\", na_values=['\\\\N'])"
   ]
  },
  {
   "cell_type": "code",
   "execution_count": 4,
   "metadata": {},
   "outputs": [
    {
     "name": "stdout",
     "output_type": "stream",
     "text": [
      "\n",
      "Before any data cleaning, the dataframe contains 8761 rows and 11 columns.\n",
      "\n"
     ]
    }
   ],
   "source": [
    "rows = df_weather.shape[0]\n",
    "cols = df_weather.shape[1]\n",
    "print()\n",
    "print(\"Before any data cleaning, the dataframe contains\", rows, \"rows and\", cols, \"columns.\")\n",
    "print()"
   ]
  },
  {
   "cell_type": "markdown",
   "metadata": {},
   "source": [
    "# 3. Check for Duplicate Rows & Columns"
   ]
  },
  {
   "cell_type": "code",
   "execution_count": 5,
   "metadata": {
    "scrolled": true
   },
   "outputs": [
    {
     "name": "stdout",
     "output_type": "stream",
     "text": [
      "\n",
      "Duplicate rows: 0\n",
      "Duplicate columns: 0\n"
     ]
    }
   ],
   "source": [
    "print()\n",
    "print('Duplicate rows:', df_weather.duplicated()[df_weather.duplicated() == True].shape[0])\n",
    "print('Duplicate columns:',df_weather.columns.size - df_weather.columns.unique().size)"
   ]
  },
  {
   "cell_type": "markdown",
   "metadata": {},
   "source": [
    "There are no duplicate rows or columns so nothing needs to be dropped here."
   ]
  },
  {
   "cell_type": "markdown",
   "metadata": {},
   "source": [
    "# 4. Assign Features as Continuous or Categorical"
   ]
  },
  {
   "cell_type": "markdown",
   "metadata": {},
   "source": [
    "Print 5 rows from the dataframe:"
   ]
  },
  {
   "cell_type": "code",
   "execution_count": 6,
   "metadata": {},
   "outputs": [
    {
     "data": {
      "text/html": [
       "<div>\n",
       "<style scoped>\n",
       "    .dataframe tbody tr th:only-of-type {\n",
       "        vertical-align: middle;\n",
       "    }\n",
       "\n",
       "    .dataframe tbody tr th {\n",
       "        vertical-align: top;\n",
       "    }\n",
       "\n",
       "    .dataframe thead th {\n",
       "        text-align: right;\n",
       "    }\n",
       "</style>\n",
       "<table border=\"1\" class=\"dataframe\">\n",
       "  <thead>\n",
       "    <tr style=\"text-align: right;\">\n",
       "      <th></th>\n",
       "      <th>record_date</th>\n",
       "      <th>irain</th>\n",
       "      <th>rain</th>\n",
       "      <th>itemp</th>\n",
       "      <th>temp</th>\n",
       "      <th>iwb</th>\n",
       "      <th>wetb</th>\n",
       "      <th>dewpt</th>\n",
       "      <th>vappr</th>\n",
       "      <th>rhum</th>\n",
       "      <th>msl</th>\n",
       "    </tr>\n",
       "  </thead>\n",
       "  <tbody>\n",
       "    <tr>\n",
       "      <th>0</th>\n",
       "      <td>2018-01-01 00:00:00</td>\n",
       "      <td>0</td>\n",
       "      <td>0.0</td>\n",
       "      <td>0</td>\n",
       "      <td>4.6</td>\n",
       "      <td>0</td>\n",
       "      <td>3.5</td>\n",
       "      <td>1.8</td>\n",
       "      <td>6.9</td>\n",
       "      <td>82</td>\n",
       "      <td>991.0</td>\n",
       "    </tr>\n",
       "    <tr>\n",
       "      <th>1</th>\n",
       "      <td>2018-01-01 01:00:00</td>\n",
       "      <td>0</td>\n",
       "      <td>0.1</td>\n",
       "      <td>0</td>\n",
       "      <td>4.7</td>\n",
       "      <td>0</td>\n",
       "      <td>3.6</td>\n",
       "      <td>1.8</td>\n",
       "      <td>7.0</td>\n",
       "      <td>81</td>\n",
       "      <td>991.1</td>\n",
       "    </tr>\n",
       "    <tr>\n",
       "      <th>2</th>\n",
       "      <td>2018-01-01 02:00:00</td>\n",
       "      <td>0</td>\n",
       "      <td>0.0</td>\n",
       "      <td>0</td>\n",
       "      <td>4.8</td>\n",
       "      <td>0</td>\n",
       "      <td>3.7</td>\n",
       "      <td>1.9</td>\n",
       "      <td>7.0</td>\n",
       "      <td>81</td>\n",
       "      <td>991.1</td>\n",
       "    </tr>\n",
       "    <tr>\n",
       "      <th>3</th>\n",
       "      <td>2018-01-01 03:00:00</td>\n",
       "      <td>0</td>\n",
       "      <td>0.0</td>\n",
       "      <td>0</td>\n",
       "      <td>4.9</td>\n",
       "      <td>0</td>\n",
       "      <td>3.8</td>\n",
       "      <td>2.2</td>\n",
       "      <td>7.2</td>\n",
       "      <td>82</td>\n",
       "      <td>990.7</td>\n",
       "    </tr>\n",
       "    <tr>\n",
       "      <th>4</th>\n",
       "      <td>2018-01-01 04:00:00</td>\n",
       "      <td>0</td>\n",
       "      <td>0.0</td>\n",
       "      <td>0</td>\n",
       "      <td>5.3</td>\n",
       "      <td>0</td>\n",
       "      <td>4.1</td>\n",
       "      <td>2.3</td>\n",
       "      <td>7.2</td>\n",
       "      <td>81</td>\n",
       "      <td>990.3</td>\n",
       "    </tr>\n",
       "  </tbody>\n",
       "</table>\n",
       "</div>"
      ],
      "text/plain": [
       "           record_date  irain  rain  itemp  temp  iwb  wetb  dewpt  vappr  \\\n",
       "0  2018-01-01 00:00:00      0   0.0      0   4.6    0   3.5    1.8    6.9   \n",
       "1  2018-01-01 01:00:00      0   0.1      0   4.7    0   3.6    1.8    7.0   \n",
       "2  2018-01-01 02:00:00      0   0.0      0   4.8    0   3.7    1.9    7.0   \n",
       "3  2018-01-01 03:00:00      0   0.0      0   4.9    0   3.8    2.2    7.2   \n",
       "4  2018-01-01 04:00:00      0   0.0      0   5.3    0   4.1    2.3    7.2   \n",
       "\n",
       "   rhum    msl  \n",
       "0    82  991.0  \n",
       "1    81  991.1  \n",
       "2    81  991.1  \n",
       "3    82  990.7  \n",
       "4    81  990.3  "
      ]
     },
     "execution_count": 6,
     "metadata": {},
     "output_type": "execute_result"
    }
   ],
   "source": [
    "df_weather.head(5)"
   ]
  },
  {
   "cell_type": "markdown",
   "metadata": {},
   "source": [
    "Assign categorical and continuous features:"
   ]
  },
  {
   "cell_type": "code",
   "execution_count": 7,
   "metadata": {
    "scrolled": false
   },
   "outputs": [],
   "source": [
    "# Select columns containing categorical data\n",
    "categorical_columns = df_weather[['record_date', 'irain', 'itemp', 'iwb']].columns\n",
    "\n",
    "# Convert data type to 'Category' for these columns\n",
    "for column in categorical_columns:\n",
    "    df_weather[column] = df_weather[column].astype('category')"
   ]
  },
  {
   "cell_type": "code",
   "execution_count": 8,
   "metadata": {
    "scrolled": true
   },
   "outputs": [],
   "source": [
    "# Select columns containing continuous data \n",
    "# This is done by selecting columns with a numeric type - float64 or int64\n",
    "continuous_columns = df_weather.select_dtypes(['float64', 'int64']).columns"
   ]
  },
  {
   "cell_type": "code",
   "execution_count": 9,
   "metadata": {},
   "outputs": [
    {
     "data": {
      "text/plain": [
       "record_date    category\n",
       "irain          category\n",
       "rain            float64\n",
       "itemp          category\n",
       "temp            float64\n",
       "iwb            category\n",
       "wetb            float64\n",
       "dewpt           float64\n",
       "vappr           float64\n",
       "rhum              int64\n",
       "msl             float64\n",
       "dtype: object"
      ]
     },
     "execution_count": 9,
     "metadata": {},
     "output_type": "execute_result"
    }
   ],
   "source": [
    "# check that all are correctly assigned\n",
    "df_weather.dtypes"
   ]
  },
  {
   "cell_type": "markdown",
   "metadata": {},
   "source": [
    "# 5 Check for Constant Features"
   ]
  },
  {
   "cell_type": "code",
   "execution_count": 10,
   "metadata": {},
   "outputs": [
    {
     "data": {
      "text/html": [
       "<div>\n",
       "<style scoped>\n",
       "    .dataframe tbody tr th:only-of-type {\n",
       "        vertical-align: middle;\n",
       "    }\n",
       "\n",
       "    .dataframe tbody tr th {\n",
       "        vertical-align: top;\n",
       "    }\n",
       "\n",
       "    .dataframe thead th {\n",
       "        text-align: right;\n",
       "    }\n",
       "</style>\n",
       "<table border=\"1\" class=\"dataframe\">\n",
       "  <thead>\n",
       "    <tr style=\"text-align: right;\">\n",
       "      <th></th>\n",
       "      <th>count</th>\n",
       "      <th>unique</th>\n",
       "      <th>top</th>\n",
       "      <th>freq</th>\n",
       "    </tr>\n",
       "  </thead>\n",
       "  <tbody>\n",
       "    <tr>\n",
       "      <th>record_date</th>\n",
       "      <td>8761</td>\n",
       "      <td>8761</td>\n",
       "      <td>2019-01-01 00:00:00</td>\n",
       "      <td>1</td>\n",
       "    </tr>\n",
       "    <tr>\n",
       "      <th>irain</th>\n",
       "      <td>8761</td>\n",
       "      <td>2</td>\n",
       "      <td>0</td>\n",
       "      <td>8759</td>\n",
       "    </tr>\n",
       "    <tr>\n",
       "      <th>itemp</th>\n",
       "      <td>8761</td>\n",
       "      <td>1</td>\n",
       "      <td>0</td>\n",
       "      <td>8761</td>\n",
       "    </tr>\n",
       "    <tr>\n",
       "      <th>iwb</th>\n",
       "      <td>8761</td>\n",
       "      <td>1</td>\n",
       "      <td>0</td>\n",
       "      <td>8761</td>\n",
       "    </tr>\n",
       "  </tbody>\n",
       "</table>\n",
       "</div>"
      ],
      "text/plain": [
       "            count unique                  top  freq\n",
       "record_date  8761   8761  2019-01-01 00:00:00     1\n",
       "irain        8761      2                    0  8759\n",
       "itemp        8761      1                    0  8761\n",
       "iwb          8761      1                    0  8761"
      ]
     },
     "execution_count": 10,
     "metadata": {},
     "output_type": "execute_result"
    }
   ],
   "source": [
    "# Print details for the categorical columns\n",
    "df_weather[categorical_columns].describe().T"
   ]
  },
  {
   "cell_type": "code",
   "execution_count": 11,
   "metadata": {},
   "outputs": [
    {
     "data": {
      "text/html": [
       "<div>\n",
       "<style scoped>\n",
       "    .dataframe tbody tr th:only-of-type {\n",
       "        vertical-align: middle;\n",
       "    }\n",
       "\n",
       "    .dataframe tbody tr th {\n",
       "        vertical-align: top;\n",
       "    }\n",
       "\n",
       "    .dataframe thead th {\n",
       "        text-align: right;\n",
       "    }\n",
       "</style>\n",
       "<table border=\"1\" class=\"dataframe\">\n",
       "  <thead>\n",
       "    <tr style=\"text-align: right;\">\n",
       "      <th></th>\n",
       "      <th>count</th>\n",
       "      <th>mean</th>\n",
       "      <th>std</th>\n",
       "      <th>min</th>\n",
       "      <th>25%</th>\n",
       "      <th>50%</th>\n",
       "      <th>75%</th>\n",
       "      <th>max</th>\n",
       "    </tr>\n",
       "  </thead>\n",
       "  <tbody>\n",
       "    <tr>\n",
       "      <th>rain</th>\n",
       "      <td>8759.0</td>\n",
       "      <td>0.078217</td>\n",
       "      <td>0.342693</td>\n",
       "      <td>0.0</td>\n",
       "      <td>0.0</td>\n",
       "      <td>0.0</td>\n",
       "      <td>0.0</td>\n",
       "      <td>8.6</td>\n",
       "    </tr>\n",
       "    <tr>\n",
       "      <th>temp</th>\n",
       "      <td>8761.0</td>\n",
       "      <td>10.449834</td>\n",
       "      <td>5.652881</td>\n",
       "      <td>-4.5</td>\n",
       "      <td>6.3</td>\n",
       "      <td>10.0</td>\n",
       "      <td>14.5</td>\n",
       "      <td>27.5</td>\n",
       "    </tr>\n",
       "    <tr>\n",
       "      <th>wetb</th>\n",
       "      <td>8761.0</td>\n",
       "      <td>8.503230</td>\n",
       "      <td>4.679665</td>\n",
       "      <td>-4.6</td>\n",
       "      <td>5.1</td>\n",
       "      <td>8.4</td>\n",
       "      <td>12.0</td>\n",
       "      <td>20.4</td>\n",
       "    </tr>\n",
       "    <tr>\n",
       "      <th>dewpt</th>\n",
       "      <td>8761.0</td>\n",
       "      <td>6.376955</td>\n",
       "      <td>4.650585</td>\n",
       "      <td>-9.8</td>\n",
       "      <td>3.1</td>\n",
       "      <td>6.5</td>\n",
       "      <td>9.7</td>\n",
       "      <td>18.3</td>\n",
       "    </tr>\n",
       "    <tr>\n",
       "      <th>vappr</th>\n",
       "      <td>8761.0</td>\n",
       "      <td>10.031229</td>\n",
       "      <td>3.147053</td>\n",
       "      <td>2.9</td>\n",
       "      <td>7.6</td>\n",
       "      <td>9.7</td>\n",
       "      <td>12.1</td>\n",
       "      <td>21.0</td>\n",
       "    </tr>\n",
       "    <tr>\n",
       "      <th>rhum</th>\n",
       "      <td>8761.0</td>\n",
       "      <td>77.064262</td>\n",
       "      <td>14.043063</td>\n",
       "      <td>24.0</td>\n",
       "      <td>68.0</td>\n",
       "      <td>80.0</td>\n",
       "      <td>88.0</td>\n",
       "      <td>99.0</td>\n",
       "    </tr>\n",
       "    <tr>\n",
       "      <th>msl</th>\n",
       "      <td>8761.0</td>\n",
       "      <td>1013.116745</td>\n",
       "      <td>11.764030</td>\n",
       "      <td>979.5</td>\n",
       "      <td>1005.7</td>\n",
       "      <td>1014.9</td>\n",
       "      <td>1021.6</td>\n",
       "      <td>1041.7</td>\n",
       "    </tr>\n",
       "  </tbody>\n",
       "</table>\n",
       "</div>"
      ],
      "text/plain": [
       "        count         mean        std    min     25%     50%     75%     max\n",
       "rain   8759.0     0.078217   0.342693    0.0     0.0     0.0     0.0     8.6\n",
       "temp   8761.0    10.449834   5.652881   -4.5     6.3    10.0    14.5    27.5\n",
       "wetb   8761.0     8.503230   4.679665   -4.6     5.1     8.4    12.0    20.4\n",
       "dewpt  8761.0     6.376955   4.650585   -9.8     3.1     6.5     9.7    18.3\n",
       "vappr  8761.0    10.031229   3.147053    2.9     7.6     9.7    12.1    21.0\n",
       "rhum   8761.0    77.064262  14.043063   24.0    68.0    80.0    88.0    99.0\n",
       "msl    8761.0  1013.116745  11.764030  979.5  1005.7  1014.9  1021.6  1041.7"
      ]
     },
     "execution_count": 11,
     "metadata": {},
     "output_type": "execute_result"
    }
   ],
   "source": [
    "# Print details for the continuous columns\n",
    "df_weather[continuous_columns].describe().T"
   ]
  },
  {
   "cell_type": "markdown",
   "metadata": {},
   "source": [
    "**itemp** and **iwb** are constant columns so can be dropped:"
   ]
  },
  {
   "cell_type": "code",
   "execution_count": 12,
   "metadata": {},
   "outputs": [],
   "source": [
    "df_weather = df_weather.drop(columns=['itemp', 'iwb'])\n",
    "categorical_columns = df_weather[['record_date', 'irain']].columns"
   ]
  },
  {
   "cell_type": "markdown",
   "metadata": {},
   "source": [
    "# 6. Check for Missing Data"
   ]
  },
  {
   "cell_type": "code",
   "execution_count": 13,
   "metadata": {},
   "outputs": [
    {
     "data": {
      "text/html": [
       "<div>\n",
       "<style scoped>\n",
       "    .dataframe tbody tr th:only-of-type {\n",
       "        vertical-align: middle;\n",
       "    }\n",
       "\n",
       "    .dataframe tbody tr th {\n",
       "        vertical-align: top;\n",
       "    }\n",
       "\n",
       "    .dataframe thead th {\n",
       "        text-align: right;\n",
       "    }\n",
       "</style>\n",
       "<table border=\"1\" class=\"dataframe\">\n",
       "  <thead>\n",
       "    <tr style=\"text-align: right;\">\n",
       "      <th></th>\n",
       "      <th>count</th>\n",
       "      <th>unique</th>\n",
       "      <th>top</th>\n",
       "      <th>freq</th>\n",
       "    </tr>\n",
       "  </thead>\n",
       "  <tbody>\n",
       "    <tr>\n",
       "      <th>record_date</th>\n",
       "      <td>8761</td>\n",
       "      <td>8761</td>\n",
       "      <td>2019-01-01 00:00:00</td>\n",
       "      <td>1</td>\n",
       "    </tr>\n",
       "    <tr>\n",
       "      <th>irain</th>\n",
       "      <td>8761</td>\n",
       "      <td>2</td>\n",
       "      <td>0</td>\n",
       "      <td>8759</td>\n",
       "    </tr>\n",
       "  </tbody>\n",
       "</table>\n",
       "</div>"
      ],
      "text/plain": [
       "            count unique                  top  freq\n",
       "record_date  8761   8761  2019-01-01 00:00:00     1\n",
       "irain        8761      2                    0  8759"
      ]
     },
     "execution_count": 13,
     "metadata": {},
     "output_type": "execute_result"
    }
   ],
   "source": [
    "# Print details for the categorical columns\n",
    "df_weather[categorical_columns].describe().T"
   ]
  },
  {
   "cell_type": "code",
   "execution_count": 14,
   "metadata": {},
   "outputs": [
    {
     "data": {
      "text/html": [
       "<div>\n",
       "<style scoped>\n",
       "    .dataframe tbody tr th:only-of-type {\n",
       "        vertical-align: middle;\n",
       "    }\n",
       "\n",
       "    .dataframe tbody tr th {\n",
       "        vertical-align: top;\n",
       "    }\n",
       "\n",
       "    .dataframe thead th {\n",
       "        text-align: right;\n",
       "    }\n",
       "</style>\n",
       "<table border=\"1\" class=\"dataframe\">\n",
       "  <thead>\n",
       "    <tr style=\"text-align: right;\">\n",
       "      <th></th>\n",
       "      <th>count</th>\n",
       "      <th>mean</th>\n",
       "      <th>std</th>\n",
       "      <th>min</th>\n",
       "      <th>25%</th>\n",
       "      <th>50%</th>\n",
       "      <th>75%</th>\n",
       "      <th>max</th>\n",
       "    </tr>\n",
       "  </thead>\n",
       "  <tbody>\n",
       "    <tr>\n",
       "      <th>rain</th>\n",
       "      <td>8759.0</td>\n",
       "      <td>0.078217</td>\n",
       "      <td>0.342693</td>\n",
       "      <td>0.0</td>\n",
       "      <td>0.0</td>\n",
       "      <td>0.0</td>\n",
       "      <td>0.0</td>\n",
       "      <td>8.6</td>\n",
       "    </tr>\n",
       "    <tr>\n",
       "      <th>temp</th>\n",
       "      <td>8761.0</td>\n",
       "      <td>10.449834</td>\n",
       "      <td>5.652881</td>\n",
       "      <td>-4.5</td>\n",
       "      <td>6.3</td>\n",
       "      <td>10.0</td>\n",
       "      <td>14.5</td>\n",
       "      <td>27.5</td>\n",
       "    </tr>\n",
       "    <tr>\n",
       "      <th>wetb</th>\n",
       "      <td>8761.0</td>\n",
       "      <td>8.503230</td>\n",
       "      <td>4.679665</td>\n",
       "      <td>-4.6</td>\n",
       "      <td>5.1</td>\n",
       "      <td>8.4</td>\n",
       "      <td>12.0</td>\n",
       "      <td>20.4</td>\n",
       "    </tr>\n",
       "    <tr>\n",
       "      <th>dewpt</th>\n",
       "      <td>8761.0</td>\n",
       "      <td>6.376955</td>\n",
       "      <td>4.650585</td>\n",
       "      <td>-9.8</td>\n",
       "      <td>3.1</td>\n",
       "      <td>6.5</td>\n",
       "      <td>9.7</td>\n",
       "      <td>18.3</td>\n",
       "    </tr>\n",
       "    <tr>\n",
       "      <th>vappr</th>\n",
       "      <td>8761.0</td>\n",
       "      <td>10.031229</td>\n",
       "      <td>3.147053</td>\n",
       "      <td>2.9</td>\n",
       "      <td>7.6</td>\n",
       "      <td>9.7</td>\n",
       "      <td>12.1</td>\n",
       "      <td>21.0</td>\n",
       "    </tr>\n",
       "    <tr>\n",
       "      <th>rhum</th>\n",
       "      <td>8761.0</td>\n",
       "      <td>77.064262</td>\n",
       "      <td>14.043063</td>\n",
       "      <td>24.0</td>\n",
       "      <td>68.0</td>\n",
       "      <td>80.0</td>\n",
       "      <td>88.0</td>\n",
       "      <td>99.0</td>\n",
       "    </tr>\n",
       "    <tr>\n",
       "      <th>msl</th>\n",
       "      <td>8761.0</td>\n",
       "      <td>1013.116745</td>\n",
       "      <td>11.764030</td>\n",
       "      <td>979.5</td>\n",
       "      <td>1005.7</td>\n",
       "      <td>1014.9</td>\n",
       "      <td>1021.6</td>\n",
       "      <td>1041.7</td>\n",
       "    </tr>\n",
       "  </tbody>\n",
       "</table>\n",
       "</div>"
      ],
      "text/plain": [
       "        count         mean        std    min     25%     50%     75%     max\n",
       "rain   8759.0     0.078217   0.342693    0.0     0.0     0.0     0.0     8.6\n",
       "temp   8761.0    10.449834   5.652881   -4.5     6.3    10.0    14.5    27.5\n",
       "wetb   8761.0     8.503230   4.679665   -4.6     5.1     8.4    12.0    20.4\n",
       "dewpt  8761.0     6.376955   4.650585   -9.8     3.1     6.5     9.7    18.3\n",
       "vappr  8761.0    10.031229   3.147053    2.9     7.6     9.7    12.1    21.0\n",
       "rhum   8761.0    77.064262  14.043063   24.0    68.0    80.0    88.0    99.0\n",
       "msl    8761.0  1013.116745  11.764030  979.5  1005.7  1014.9  1021.6  1041.7"
      ]
     },
     "execution_count": 14,
     "metadata": {},
     "output_type": "execute_result"
    }
   ],
   "source": [
    "# Print details for the continuous columns\n",
    "df_weather[continuous_columns].describe().T"
   ]
  },
  {
   "cell_type": "markdown",
   "metadata": {},
   "source": [
    "Investigate rows with missing data for rain:"
   ]
  },
  {
   "cell_type": "code",
   "execution_count": 15,
   "metadata": {},
   "outputs": [
    {
     "data": {
      "text/html": [
       "<div>\n",
       "<style scoped>\n",
       "    .dataframe tbody tr th:only-of-type {\n",
       "        vertical-align: middle;\n",
       "    }\n",
       "\n",
       "    .dataframe tbody tr th {\n",
       "        vertical-align: top;\n",
       "    }\n",
       "\n",
       "    .dataframe thead th {\n",
       "        text-align: right;\n",
       "    }\n",
       "</style>\n",
       "<table border=\"1\" class=\"dataframe\">\n",
       "  <thead>\n",
       "    <tr style=\"text-align: right;\">\n",
       "      <th></th>\n",
       "      <th>record_date</th>\n",
       "      <th>irain</th>\n",
       "      <th>rain</th>\n",
       "      <th>temp</th>\n",
       "      <th>wetb</th>\n",
       "      <th>dewpt</th>\n",
       "      <th>vappr</th>\n",
       "      <th>rhum</th>\n",
       "      <th>msl</th>\n",
       "    </tr>\n",
       "  </thead>\n",
       "  <tbody>\n",
       "    <tr>\n",
       "      <th>6230</th>\n",
       "      <td>2018-09-17 14:00:00</td>\n",
       "      <td>-1</td>\n",
       "      <td>NaN</td>\n",
       "      <td>20.2</td>\n",
       "      <td>16.3</td>\n",
       "      <td>13.4</td>\n",
       "      <td>15.4</td>\n",
       "      <td>65</td>\n",
       "      <td>1003.0</td>\n",
       "    </tr>\n",
       "    <tr>\n",
       "      <th>6231</th>\n",
       "      <td>2018-09-17 15:00:00</td>\n",
       "      <td>-1</td>\n",
       "      <td>NaN</td>\n",
       "      <td>20.6</td>\n",
       "      <td>16.5</td>\n",
       "      <td>13.6</td>\n",
       "      <td>15.5</td>\n",
       "      <td>63</td>\n",
       "      <td>1002.2</td>\n",
       "    </tr>\n",
       "  </tbody>\n",
       "</table>\n",
       "</div>"
      ],
      "text/plain": [
       "              record_date irain  rain  temp  wetb  dewpt  vappr  rhum     msl\n",
       "6230  2018-09-17 14:00:00    -1   NaN  20.2  16.3   13.4   15.4    65  1003.0\n",
       "6231  2018-09-17 15:00:00    -1   NaN  20.6  16.5   13.6   15.5    63  1002.2"
      ]
     },
     "execution_count": 15,
     "metadata": {},
     "output_type": "execute_result"
    }
   ],
   "source": [
    "# select all rows where irain is not 0\n",
    "df_weather.loc[df_weather['irain'] != 0]"
   ]
  },
  {
   "cell_type": "markdown",
   "metadata": {},
   "source": [
    "There are only two rows where irain is not zero, these rows correspond to missing values for rain."
   ]
  },
  {
   "cell_type": "code",
   "execution_count": 16,
   "metadata": {},
   "outputs": [
    {
     "data": {
      "text/html": [
       "<div>\n",
       "<style scoped>\n",
       "    .dataframe tbody tr th:only-of-type {\n",
       "        vertical-align: middle;\n",
       "    }\n",
       "\n",
       "    .dataframe tbody tr th {\n",
       "        vertical-align: top;\n",
       "    }\n",
       "\n",
       "    .dataframe thead th {\n",
       "        text-align: right;\n",
       "    }\n",
       "</style>\n",
       "<table border=\"1\" class=\"dataframe\">\n",
       "  <thead>\n",
       "    <tr style=\"text-align: right;\">\n",
       "      <th></th>\n",
       "      <th>record_date</th>\n",
       "      <th>irain</th>\n",
       "      <th>rain</th>\n",
       "      <th>temp</th>\n",
       "      <th>wetb</th>\n",
       "      <th>dewpt</th>\n",
       "      <th>vappr</th>\n",
       "      <th>rhum</th>\n",
       "      <th>msl</th>\n",
       "    </tr>\n",
       "  </thead>\n",
       "  <tbody>\n",
       "    <tr>\n",
       "      <th>6220</th>\n",
       "      <td>2018-09-17 04:00:00</td>\n",
       "      <td>0</td>\n",
       "      <td>0.0</td>\n",
       "      <td>11.2</td>\n",
       "      <td>10.3</td>\n",
       "      <td>9.3</td>\n",
       "      <td>11.7</td>\n",
       "      <td>88</td>\n",
       "      <td>1011.2</td>\n",
       "    </tr>\n",
       "    <tr>\n",
       "      <th>6221</th>\n",
       "      <td>2018-09-17 05:00:00</td>\n",
       "      <td>0</td>\n",
       "      <td>0.0</td>\n",
       "      <td>10.9</td>\n",
       "      <td>10.1</td>\n",
       "      <td>9.2</td>\n",
       "      <td>11.6</td>\n",
       "      <td>89</td>\n",
       "      <td>1010.4</td>\n",
       "    </tr>\n",
       "    <tr>\n",
       "      <th>6222</th>\n",
       "      <td>2018-09-17 06:00:00</td>\n",
       "      <td>0</td>\n",
       "      <td>0.0</td>\n",
       "      <td>11.1</td>\n",
       "      <td>10.2</td>\n",
       "      <td>9.4</td>\n",
       "      <td>11.8</td>\n",
       "      <td>89</td>\n",
       "      <td>1010.1</td>\n",
       "    </tr>\n",
       "    <tr>\n",
       "      <th>6223</th>\n",
       "      <td>2018-09-17 07:00:00</td>\n",
       "      <td>0</td>\n",
       "      <td>0.0</td>\n",
       "      <td>11.7</td>\n",
       "      <td>10.6</td>\n",
       "      <td>9.5</td>\n",
       "      <td>11.9</td>\n",
       "      <td>86</td>\n",
       "      <td>1009.4</td>\n",
       "    </tr>\n",
       "    <tr>\n",
       "      <th>6224</th>\n",
       "      <td>2018-09-17 08:00:00</td>\n",
       "      <td>0</td>\n",
       "      <td>0.0</td>\n",
       "      <td>14.6</td>\n",
       "      <td>11.9</td>\n",
       "      <td>9.3</td>\n",
       "      <td>11.7</td>\n",
       "      <td>70</td>\n",
       "      <td>1008.2</td>\n",
       "    </tr>\n",
       "    <tr>\n",
       "      <th>6225</th>\n",
       "      <td>2018-09-17 09:00:00</td>\n",
       "      <td>0</td>\n",
       "      <td>0.0</td>\n",
       "      <td>15.8</td>\n",
       "      <td>12.3</td>\n",
       "      <td>9.1</td>\n",
       "      <td>11.6</td>\n",
       "      <td>64</td>\n",
       "      <td>1007.2</td>\n",
       "    </tr>\n",
       "    <tr>\n",
       "      <th>6226</th>\n",
       "      <td>2018-09-17 10:00:00</td>\n",
       "      <td>0</td>\n",
       "      <td>0.0</td>\n",
       "      <td>16.8</td>\n",
       "      <td>13.9</td>\n",
       "      <td>11.6</td>\n",
       "      <td>13.7</td>\n",
       "      <td>71</td>\n",
       "      <td>1006.6</td>\n",
       "    </tr>\n",
       "    <tr>\n",
       "      <th>6227</th>\n",
       "      <td>2018-09-17 11:00:00</td>\n",
       "      <td>0</td>\n",
       "      <td>0.0</td>\n",
       "      <td>17.6</td>\n",
       "      <td>15.0</td>\n",
       "      <td>13.0</td>\n",
       "      <td>15.0</td>\n",
       "      <td>74</td>\n",
       "      <td>1005.6</td>\n",
       "    </tr>\n",
       "    <tr>\n",
       "      <th>6228</th>\n",
       "      <td>2018-09-17 12:00:00</td>\n",
       "      <td>0</td>\n",
       "      <td>0.0</td>\n",
       "      <td>19.4</td>\n",
       "      <td>16.4</td>\n",
       "      <td>14.2</td>\n",
       "      <td>16.1</td>\n",
       "      <td>71</td>\n",
       "      <td>1004.6</td>\n",
       "    </tr>\n",
       "    <tr>\n",
       "      <th>6229</th>\n",
       "      <td>2018-09-17 13:00:00</td>\n",
       "      <td>0</td>\n",
       "      <td>0.0</td>\n",
       "      <td>19.8</td>\n",
       "      <td>16.4</td>\n",
       "      <td>13.8</td>\n",
       "      <td>15.8</td>\n",
       "      <td>68</td>\n",
       "      <td>1003.8</td>\n",
       "    </tr>\n",
       "    <tr>\n",
       "      <th>6230</th>\n",
       "      <td>2018-09-17 14:00:00</td>\n",
       "      <td>-1</td>\n",
       "      <td>NaN</td>\n",
       "      <td>20.2</td>\n",
       "      <td>16.3</td>\n",
       "      <td>13.4</td>\n",
       "      <td>15.4</td>\n",
       "      <td>65</td>\n",
       "      <td>1003.0</td>\n",
       "    </tr>\n",
       "    <tr>\n",
       "      <th>6231</th>\n",
       "      <td>2018-09-17 15:00:00</td>\n",
       "      <td>-1</td>\n",
       "      <td>NaN</td>\n",
       "      <td>20.6</td>\n",
       "      <td>16.5</td>\n",
       "      <td>13.6</td>\n",
       "      <td>15.5</td>\n",
       "      <td>63</td>\n",
       "      <td>1002.2</td>\n",
       "    </tr>\n",
       "    <tr>\n",
       "      <th>6232</th>\n",
       "      <td>2018-09-17 16:00:00</td>\n",
       "      <td>0</td>\n",
       "      <td>0.0</td>\n",
       "      <td>20.4</td>\n",
       "      <td>16.6</td>\n",
       "      <td>13.8</td>\n",
       "      <td>15.8</td>\n",
       "      <td>65</td>\n",
       "      <td>1001.5</td>\n",
       "    </tr>\n",
       "    <tr>\n",
       "      <th>6233</th>\n",
       "      <td>2018-09-17 17:00:00</td>\n",
       "      <td>0</td>\n",
       "      <td>0.0</td>\n",
       "      <td>19.4</td>\n",
       "      <td>15.6</td>\n",
       "      <td>12.7</td>\n",
       "      <td>14.7</td>\n",
       "      <td>65</td>\n",
       "      <td>1001.0</td>\n",
       "    </tr>\n",
       "    <tr>\n",
       "      <th>6234</th>\n",
       "      <td>2018-09-17 18:00:00</td>\n",
       "      <td>0</td>\n",
       "      <td>0.0</td>\n",
       "      <td>18.7</td>\n",
       "      <td>15.2</td>\n",
       "      <td>12.4</td>\n",
       "      <td>14.4</td>\n",
       "      <td>66</td>\n",
       "      <td>1000.4</td>\n",
       "    </tr>\n",
       "    <tr>\n",
       "      <th>6235</th>\n",
       "      <td>2018-09-17 19:00:00</td>\n",
       "      <td>0</td>\n",
       "      <td>0.0</td>\n",
       "      <td>18.5</td>\n",
       "      <td>14.9</td>\n",
       "      <td>12.1</td>\n",
       "      <td>14.1</td>\n",
       "      <td>66</td>\n",
       "      <td>1000.3</td>\n",
       "    </tr>\n",
       "    <tr>\n",
       "      <th>6236</th>\n",
       "      <td>2018-09-17 20:00:00</td>\n",
       "      <td>0</td>\n",
       "      <td>0.0</td>\n",
       "      <td>18.1</td>\n",
       "      <td>15.4</td>\n",
       "      <td>13.4</td>\n",
       "      <td>15.4</td>\n",
       "      <td>74</td>\n",
       "      <td>999.8</td>\n",
       "    </tr>\n",
       "    <tr>\n",
       "      <th>6237</th>\n",
       "      <td>2018-09-17 21:00:00</td>\n",
       "      <td>0</td>\n",
       "      <td>0.0</td>\n",
       "      <td>17.0</td>\n",
       "      <td>15.1</td>\n",
       "      <td>13.8</td>\n",
       "      <td>15.7</td>\n",
       "      <td>81</td>\n",
       "      <td>998.9</td>\n",
       "    </tr>\n",
       "    <tr>\n",
       "      <th>6238</th>\n",
       "      <td>2018-09-17 22:00:00</td>\n",
       "      <td>0</td>\n",
       "      <td>0.0</td>\n",
       "      <td>17.0</td>\n",
       "      <td>15.2</td>\n",
       "      <td>13.8</td>\n",
       "      <td>15.8</td>\n",
       "      <td>81</td>\n",
       "      <td>997.5</td>\n",
       "    </tr>\n",
       "    <tr>\n",
       "      <th>6239</th>\n",
       "      <td>2018-09-17 23:00:00</td>\n",
       "      <td>0</td>\n",
       "      <td>0.0</td>\n",
       "      <td>16.7</td>\n",
       "      <td>15.4</td>\n",
       "      <td>14.4</td>\n",
       "      <td>16.4</td>\n",
       "      <td>86</td>\n",
       "      <td>996.4</td>\n",
       "    </tr>\n",
       "  </tbody>\n",
       "</table>\n",
       "</div>"
      ],
      "text/plain": [
       "              record_date irain  rain  temp  wetb  dewpt  vappr  rhum     msl\n",
       "6220  2018-09-17 04:00:00     0   0.0  11.2  10.3    9.3   11.7    88  1011.2\n",
       "6221  2018-09-17 05:00:00     0   0.0  10.9  10.1    9.2   11.6    89  1010.4\n",
       "6222  2018-09-17 06:00:00     0   0.0  11.1  10.2    9.4   11.8    89  1010.1\n",
       "6223  2018-09-17 07:00:00     0   0.0  11.7  10.6    9.5   11.9    86  1009.4\n",
       "6224  2018-09-17 08:00:00     0   0.0  14.6  11.9    9.3   11.7    70  1008.2\n",
       "6225  2018-09-17 09:00:00     0   0.0  15.8  12.3    9.1   11.6    64  1007.2\n",
       "6226  2018-09-17 10:00:00     0   0.0  16.8  13.9   11.6   13.7    71  1006.6\n",
       "6227  2018-09-17 11:00:00     0   0.0  17.6  15.0   13.0   15.0    74  1005.6\n",
       "6228  2018-09-17 12:00:00     0   0.0  19.4  16.4   14.2   16.1    71  1004.6\n",
       "6229  2018-09-17 13:00:00     0   0.0  19.8  16.4   13.8   15.8    68  1003.8\n",
       "6230  2018-09-17 14:00:00    -1   NaN  20.2  16.3   13.4   15.4    65  1003.0\n",
       "6231  2018-09-17 15:00:00    -1   NaN  20.6  16.5   13.6   15.5    63  1002.2\n",
       "6232  2018-09-17 16:00:00     0   0.0  20.4  16.6   13.8   15.8    65  1001.5\n",
       "6233  2018-09-17 17:00:00     0   0.0  19.4  15.6   12.7   14.7    65  1001.0\n",
       "6234  2018-09-17 18:00:00     0   0.0  18.7  15.2   12.4   14.4    66  1000.4\n",
       "6235  2018-09-17 19:00:00     0   0.0  18.5  14.9   12.1   14.1    66  1000.3\n",
       "6236  2018-09-17 20:00:00     0   0.0  18.1  15.4   13.4   15.4    74   999.8\n",
       "6237  2018-09-17 21:00:00     0   0.0  17.0  15.1   13.8   15.7    81   998.9\n",
       "6238  2018-09-17 22:00:00     0   0.0  17.0  15.2   13.8   15.8    81   997.5\n",
       "6239  2018-09-17 23:00:00     0   0.0  16.7  15.4   14.4   16.4    86   996.4"
      ]
     },
     "execution_count": 16,
     "metadata": {},
     "output_type": "execute_result"
    }
   ],
   "source": [
    "# select other rows around the missing values\n",
    "df_weather[6220:6240]"
   ]
  },
  {
   "cell_type": "markdown",
   "metadata": {},
   "source": [
    "Given that there is no rain for the rest of the day, and given the high (for Ireland) temperature on the day, I think it's safe to replace the missing rain values with 0.\n",
    "\n",
    "I will then drop the feature **irain** as it provides no useful information."
   ]
  },
  {
   "cell_type": "code",
   "execution_count": 17,
   "metadata": {},
   "outputs": [],
   "source": [
    "# replace rain with 0 where irain is not 0\n",
    "df_weather = df_weather.loc[df_weather['irain'] != -1]"
   ]
  },
  {
   "cell_type": "code",
   "execution_count": 18,
   "metadata": {},
   "outputs": [
    {
     "data": {
      "text/html": [
       "<div>\n",
       "<style scoped>\n",
       "    .dataframe tbody tr th:only-of-type {\n",
       "        vertical-align: middle;\n",
       "    }\n",
       "\n",
       "    .dataframe tbody tr th {\n",
       "        vertical-align: top;\n",
       "    }\n",
       "\n",
       "    .dataframe thead th {\n",
       "        text-align: right;\n",
       "    }\n",
       "</style>\n",
       "<table border=\"1\" class=\"dataframe\">\n",
       "  <thead>\n",
       "    <tr style=\"text-align: right;\">\n",
       "      <th></th>\n",
       "      <th>record_date</th>\n",
       "      <th>irain</th>\n",
       "      <th>rain</th>\n",
       "      <th>temp</th>\n",
       "      <th>wetb</th>\n",
       "      <th>dewpt</th>\n",
       "      <th>vappr</th>\n",
       "      <th>rhum</th>\n",
       "      <th>msl</th>\n",
       "    </tr>\n",
       "  </thead>\n",
       "  <tbody>\n",
       "  </tbody>\n",
       "</table>\n",
       "</div>"
      ],
      "text/plain": [
       "Empty DataFrame\n",
       "Columns: [record_date, irain, rain, temp, wetb, dewpt, vappr, rhum, msl]\n",
       "Index: []"
      ]
     },
     "execution_count": 18,
     "metadata": {},
     "output_type": "execute_result"
    }
   ],
   "source": [
    "# check that values are updated\n",
    "df_weather.loc[df_weather['irain'] != 0]"
   ]
  },
  {
   "cell_type": "code",
   "execution_count": 19,
   "metadata": {},
   "outputs": [],
   "source": [
    "# drop the irain feature\n",
    "df_weather = df_weather.drop(columns=['irain'])"
   ]
  },
  {
   "cell_type": "markdown",
   "metadata": {},
   "source": [
    "# 7. Drop Additional Features"
   ]
  },
  {
   "cell_type": "markdown",
   "metadata": {},
   "source": [
    "The following features will be dropped as they are not available from our weather forecast source (OpenWeather API):\n",
    "\n",
    "- wetb\n",
    "- dewpt\n",
    "- vappr"
   ]
  },
  {
   "cell_type": "code",
   "execution_count": 20,
   "metadata": {},
   "outputs": [],
   "source": [
    "df_weather = df_weather.drop(columns=['wetb', 'dewpt', 'vappr'])"
   ]
  },
  {
   "cell_type": "markdown",
   "metadata": {},
   "source": [
    "# 8. Export the Cleaned Data"
   ]
  },
  {
   "cell_type": "code",
   "execution_count": 21,
   "metadata": {},
   "outputs": [],
   "source": [
    "df_weather.to_csv('/data_analytics/data/weather_cleaned.csv', index=False)"
   ]
  },
  {
   "cell_type": "markdown",
   "metadata": {},
   "source": [
    "# 9. Data Quality Plan"
   ]
  },
  {
   "cell_type": "markdown",
   "metadata": {},
   "source": [
    "| Feature | Data Quality Issue | Handling Strategy |\n",
    "|-------------------------|----------------------|------------------------------|\n",
    "| itemp | Constant feature | Drop feature |\n",
    "| iwb | Constant feature | Drop feature |\n",
    "| rain | Missing data - 2 rows | Imputation - replace with 0 after looking at data for other timestamps on the same day |\n",
    "| irain | Seems to be a missing data indicator | Drop feature as only two rows have missing data, and imputation is performed for these rows |\n",
    "| wetb | Not available from OpenWeather | Drop feature |\n",
    "| dewpt | Not available from OpenWeather | Drop feature |\n",
    "| vappr | Not available from OpenWeather | Drop feature |"
   ]
  }
 ],
 "metadata": {
  "kernelspec": {
   "display_name": "Python 3",
   "language": "python",
   "name": "python3"
  },
  "language_info": {
   "codemirror_mode": {
    "name": "ipython",
    "version": 3
   },
   "file_extension": ".py",
   "mimetype": "text/x-python",
   "name": "python",
   "nbconvert_exporter": "python",
   "pygments_lexer": "ipython3",
   "version": "3.7.3"
  }
 },
 "nbformat": 4,
 "nbformat_minor": 2
}
